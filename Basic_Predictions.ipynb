{
 "cells": [
  {
   "cell_type": "code",
   "execution_count": 1,
   "metadata": {},
   "outputs": [],
   "source": [
    "import pandas as pd\n",
    "import os\n",
    "import matplotlib.pyplot as plt\n",
    "import numpy as np\n",
    "import tensorflow as tf\n",
    "from sklearn import preprocessing as pre\n",
    "\n",
    "from keras.layers import LSTM, Input, Dense, Dropout\n",
    "from keras import Model, Sequential,layers"
   ]
  },
  {
   "cell_type": "code",
   "execution_count": 8,
   "metadata": {},
   "outputs": [
    {
     "data": {
      "text/html": [
       "<div>\n",
       "<style scoped>\n",
       "    .dataframe tbody tr th:only-of-type {\n",
       "        vertical-align: middle;\n",
       "    }\n",
       "\n",
       "    .dataframe tbody tr th {\n",
       "        vertical-align: top;\n",
       "    }\n",
       "\n",
       "    .dataframe thead th {\n",
       "        text-align: right;\n",
       "    }\n",
       "</style>\n",
       "<table border=\"1\" class=\"dataframe\">\n",
       "  <thead>\n",
       "    <tr style=\"text-align: right;\">\n",
       "      <th></th>\n",
       "      <th>Date</th>\n",
       "      <th>Open</th>\n",
       "      <th>High</th>\n",
       "      <th>Low</th>\n",
       "      <th>Close</th>\n",
       "      <th>Adj Close</th>\n",
       "    </tr>\n",
       "  </thead>\n",
       "  <tbody>\n",
       "    <tr>\n",
       "      <th>0</th>\n",
       "      <td>1980-12-12</td>\n",
       "      <td>0.128348</td>\n",
       "      <td>0.128906</td>\n",
       "      <td>0.128348</td>\n",
       "      <td>0.128348</td>\n",
       "      <td>0.099449</td>\n",
       "    </tr>\n",
       "    <tr>\n",
       "      <th>1</th>\n",
       "      <td>1980-12-15</td>\n",
       "      <td>0.122210</td>\n",
       "      <td>0.122210</td>\n",
       "      <td>0.121652</td>\n",
       "      <td>0.121652</td>\n",
       "      <td>0.094261</td>\n",
       "    </tr>\n",
       "    <tr>\n",
       "      <th>2</th>\n",
       "      <td>1980-12-16</td>\n",
       "      <td>0.113281</td>\n",
       "      <td>0.113281</td>\n",
       "      <td>0.112723</td>\n",
       "      <td>0.112723</td>\n",
       "      <td>0.087343</td>\n",
       "    </tr>\n",
       "    <tr>\n",
       "      <th>3</th>\n",
       "      <td>1980-12-17</td>\n",
       "      <td>0.115513</td>\n",
       "      <td>0.116071</td>\n",
       "      <td>0.115513</td>\n",
       "      <td>0.115513</td>\n",
       "      <td>0.089504</td>\n",
       "    </tr>\n",
       "    <tr>\n",
       "      <th>4</th>\n",
       "      <td>1980-12-18</td>\n",
       "      <td>0.118862</td>\n",
       "      <td>0.119420</td>\n",
       "      <td>0.118862</td>\n",
       "      <td>0.118862</td>\n",
       "      <td>0.092099</td>\n",
       "    </tr>\n",
       "    <tr>\n",
       "      <th>...</th>\n",
       "      <td>...</td>\n",
       "      <td>...</td>\n",
       "      <td>...</td>\n",
       "      <td>...</td>\n",
       "      <td>...</td>\n",
       "      <td>...</td>\n",
       "    </tr>\n",
       "    <tr>\n",
       "      <th>10809</th>\n",
       "      <td>2023-10-27</td>\n",
       "      <td>166.910004</td>\n",
       "      <td>168.960007</td>\n",
       "      <td>166.830002</td>\n",
       "      <td>168.220001</td>\n",
       "      <td>168.220001</td>\n",
       "    </tr>\n",
       "    <tr>\n",
       "      <th>10810</th>\n",
       "      <td>2023-10-30</td>\n",
       "      <td>169.020004</td>\n",
       "      <td>171.169998</td>\n",
       "      <td>168.869995</td>\n",
       "      <td>170.289993</td>\n",
       "      <td>170.289993</td>\n",
       "    </tr>\n",
       "    <tr>\n",
       "      <th>10811</th>\n",
       "      <td>2023-10-31</td>\n",
       "      <td>169.350006</td>\n",
       "      <td>170.899994</td>\n",
       "      <td>167.899994</td>\n",
       "      <td>170.770004</td>\n",
       "      <td>170.770004</td>\n",
       "    </tr>\n",
       "    <tr>\n",
       "      <th>10812</th>\n",
       "      <td>2023-11-01</td>\n",
       "      <td>171.000000</td>\n",
       "      <td>174.229996</td>\n",
       "      <td>170.119995</td>\n",
       "      <td>173.970001</td>\n",
       "      <td>173.970001</td>\n",
       "    </tr>\n",
       "    <tr>\n",
       "      <th>10813</th>\n",
       "      <td>2023-11-02</td>\n",
       "      <td>175.520004</td>\n",
       "      <td>177.779999</td>\n",
       "      <td>175.460007</td>\n",
       "      <td>177.570007</td>\n",
       "      <td>177.570007</td>\n",
       "    </tr>\n",
       "  </tbody>\n",
       "</table>\n",
       "<p>10814 rows × 6 columns</p>\n",
       "</div>"
      ],
      "text/plain": [
       "            Date        Open        High         Low       Close   Adj Close\n",
       "0     1980-12-12    0.128348    0.128906    0.128348    0.128348    0.099449\n",
       "1     1980-12-15    0.122210    0.122210    0.121652    0.121652    0.094261\n",
       "2     1980-12-16    0.113281    0.113281    0.112723    0.112723    0.087343\n",
       "3     1980-12-17    0.115513    0.116071    0.115513    0.115513    0.089504\n",
       "4     1980-12-18    0.118862    0.119420    0.118862    0.118862    0.092099\n",
       "...          ...         ...         ...         ...         ...         ...\n",
       "10809 2023-10-27  166.910004  168.960007  166.830002  168.220001  168.220001\n",
       "10810 2023-10-30  169.020004  171.169998  168.869995  170.289993  170.289993\n",
       "10811 2023-10-31  169.350006  170.899994  167.899994  170.770004  170.770004\n",
       "10812 2023-11-01  171.000000  174.229996  170.119995  173.970001  173.970001\n",
       "10813 2023-11-02  175.520004  177.779999  175.460007  177.570007  177.570007\n",
       "\n",
       "[10814 rows x 6 columns]"
      ]
     },
     "execution_count": 8,
     "metadata": {},
     "output_type": "execute_result"
    }
   ],
   "source": [
    "avlData = os.listdir(\"Data\\\\\")\n",
    "data = pd.read_csv(f\"Data\\\\{avlData[1]}\")\n",
    "data.Date = pd.to_datetime(data.Date)\n",
    "data = data.drop(columns = [\"Volume\"])\n",
    "data"
   ]
  },
  {
   "cell_type": "code",
   "execution_count": 144,
   "metadata": {},
   "outputs": [
    {
     "data": {
      "text/plain": [
       "(10814,)"
      ]
     },
     "execution_count": 144,
     "metadata": {},
     "output_type": "execute_result"
    }
   ],
   "source": [
    "dates = pd.to_datetime(data.Date)\n",
    "dates.shape"
   ]
  },
  {
   "cell_type": "code",
   "execution_count": 18,
   "metadata": {},
   "outputs": [],
   "source": [
    "scaler = pre.MinMaxScaler()"
   ]
  },
  {
   "cell_type": "code",
   "execution_count": 23,
   "metadata": {},
   "outputs": [],
   "source": [
    "norm_data = data.drop(columns = [\"Date\"])\n",
    "norm_data = np.array(norm_data.Close).reshape(-1,1)\n",
    "norm_data = scaler.fit_transform(norm_data) #puts data in a range of [0,1]"
   ]
  },
  {
   "cell_type": "code",
   "execution_count": 37,
   "metadata": {},
   "outputs": [],
   "source": [
    "def data_split(np_array, future = 1, past = 7):\n",
    "    x, y = [], []\n",
    "    for i in range(past, len(np_array) - future + 1):\n",
    "        x.append(np_array[i - past:i, 0:np_array.shape[1]])\n",
    "        y.append(np_array[i + future - 1:i + future, 0])\n",
    "    return np.array(x), np.array(y)"
   ]
  },
  {
   "cell_type": "code",
   "execution_count": 61,
   "metadata": {},
   "outputs": [
    {
     "name": "stdout",
     "output_type": "stream",
     "text": [
      "10814\n"
     ]
    },
    {
     "data": {
      "text/plain": [
       "((10807, 7, 1), (10807, 1))"
      ]
     },
     "execution_count": 61,
     "metadata": {},
     "output_type": "execute_result"
    }
   ],
   "source": [
    "print(len(norm_data))\n",
    "x, y  = data_split(norm_data)\n",
    "x.shape, y.shape"
   ]
  },
  {
   "cell_type": "code",
   "execution_count": 72,
   "metadata": {},
   "outputs": [
    {
     "data": {
      "image/png": "[encoded data removed]",
      "text/plain": [
       "<Figure size 640x480 with 1 Axes>"
      ]
     },
     "metadata": {},
     "output_type": "display_data"
    }
   ],
   "source": [
    "plt.plot(y)\n",
    "plt.show()"
   ]
  },
  {
   "cell_type": "code",
   "execution_count": 75,
   "metadata": {},
   "outputs": [
    {
     "name": "stdout",
     "output_type": "stream",
     "text": [
      "Model: \"sequential_1\"\n",
      "_________________________________________________________________\n",
      " Layer (type)                Output Shape              Param #   \n",
      "=================================================================\n",
      " lstm_2 (LSTM)               (None, 7, 64)             16896     \n",
      "                                                                 \n",
      " lstm_3 (LSTM)               (None, 32)                12416     \n",
      "                                                                 \n",
      " dropout_1 (Dropout)         (None, 32)                0         \n",
      "                                                                 \n",
      " dense_1 (Dense)             (None, 1)                 33        \n",
      "                                                                 \n",
      "=================================================================\n",
      "Total params: 29345 (114.63 KB)\n",
      "Trainable params: 29345 (114.63 KB)\n",
      "Non-trainable params: 0 (0.00 Byte)\n",
      "_________________________________________________________________\n"
     ]
    }
   ],
   "source": [
    "act = 'relu'\n",
    "\n",
    "model = Sequential([LSTM(64, activation = act, input_shape = (x.shape[1],x.shape[2]), return_sequences = True),\n",
    "                    LSTM(32, activation = act, return_sequences = False),\n",
    "                    Dropout(0.2),\n",
    "                    Dense(y.shape[1])])\n",
    "\n",
    "model.compile(optimizer = 'adam',\n",
    "                loss = 'mean_squared_error')\n",
    "model.summary()"
   ]
  },
  {
   "cell_type": "code",
   "execution_count": 76,
   "metadata": {},
   "outputs": [
    {
     "name": "stdout",
     "output_type": "stream",
     "text": [
      "Epoch 1/20\n",
      "608/608 [==============================] - 4s 4ms/step - loss: 3.6160e-04 - val_loss: 0.0049\n",
      "Epoch 2/20\n",
      "608/608 [==============================] - 2s 4ms/step - loss: 1.6501e-04 - val_loss: 0.0194\n",
      "Epoch 3/20\n",
      "608/608 [==============================] - 2s 4ms/step - loss: 1.5128e-04 - val_loss: 0.0442\n",
      "Epoch 4/20\n",
      "608/608 [==============================] - 2s 4ms/step - loss: 1.5361e-04 - val_loss: 0.0457\n",
      "Epoch 5/20\n",
      "608/608 [==============================] - 2s 4ms/step - loss: 1.6431e-04 - val_loss: 0.0126\n",
      "Epoch 6/20\n",
      "608/608 [==============================] - 2s 4ms/step - loss: 1.4565e-04 - val_loss: 0.0127\n",
      "Epoch 7/20\n",
      "608/608 [==============================] - 2s 4ms/step - loss: 1.4171e-04 - val_loss: 0.0016\n",
      "Epoch 8/20\n",
      "608/608 [==============================] - 2s 4ms/step - loss: 1.6024e-04 - val_loss: 0.0012\n",
      "Epoch 9/20\n",
      "608/608 [==============================] - 2s 4ms/step - loss: 1.3691e-04 - val_loss: 0.0074\n",
      "Epoch 10/20\n",
      "608/608 [==============================] - 2s 4ms/step - loss: 1.6588e-04 - val_loss: 0.0111\n",
      "Epoch 11/20\n",
      "608/608 [==============================] - 2s 4ms/step - loss: 1.5100e-04 - val_loss: 0.0185\n",
      "Epoch 12/20\n",
      "608/608 [==============================] - 2s 4ms/step - loss: 1.4350e-04 - val_loss: 8.9386e-04\n",
      "Epoch 13/20\n",
      "608/608 [==============================] - 2s 4ms/step - loss: 1.5093e-04 - val_loss: 9.5941e-04\n",
      "Epoch 14/20\n",
      "608/608 [==============================] - 2s 4ms/step - loss: 1.6011e-04 - val_loss: 7.6560e-04\n",
      "Epoch 15/20\n",
      "608/608 [==============================] - 2s 4ms/step - loss: 1.5298e-04 - val_loss: 0.0026\n",
      "Epoch 16/20\n",
      "608/608 [==============================] - 2s 4ms/step - loss: 1.4274e-04 - val_loss: 8.8774e-04\n",
      "Epoch 17/20\n",
      "608/608 [==============================] - 2s 4ms/step - loss: 1.4478e-04 - val_loss: 0.0012\n",
      "Epoch 18/20\n",
      "608/608 [==============================] - 2s 4ms/step - loss: 1.4102e-04 - val_loss: 0.0052\n",
      "Epoch 19/20\n",
      "608/608 [==============================] - 2s 4ms/step - loss: 1.4082e-04 - val_loss: 8.8777e-04\n",
      "Epoch 20/20\n",
      "608/608 [==============================] - 2s 4ms/step - loss: 1.4572e-04 - val_loss: 4.5520e-04\n"
     ]
    }
   ],
   "source": [
    "hist = model.fit(x, y, epochs = 20, batch_size = 16, validation_split = 0.1)"
   ]
  },
  {
   "cell_type": "code",
   "execution_count": 81,
   "metadata": {},
   "outputs": [
    {
     "name": "stderr",
     "output_type": "stream",
     "text": [
      "C:\\Users\\pancakeFiles\\AppData\\Local\\Temp\\ipykernel_448\\1822820563.py:2: MatplotlibDeprecationWarning: Auto-removal of overlapping axes is deprecated since 3.6 and will be removed two minor releases later; explicitly call ax.remove() as needed.\n",
      "  plt.subplot(121)\n"
     ]
    },
    {
     "data": {
      "image/png": "[encoded data removed]",
      "text/plain": [
       "<Figure size 640x480 with 2 Axes>"
      ]
     },
     "metadata": {},
     "output_type": "display_data"
    }
   ],
   "source": [
    "plt.title('loss')\n",
    "plt.subplot(121)\n",
    "plt.plot(hist.history['loss'])\n",
    "plt.subplot(122)\n",
    "plt.plot(hist.history['val_loss'])\n",
    "plt.show()"
   ]
  },
  {
   "cell_type": "code",
   "execution_count": 138,
   "metadata": {},
   "outputs": [
    {
     "name": "stdout",
     "output_type": "stream",
     "text": [
      "3/3 [==============================] - 0s 3ms/step\n"
     ]
    }
   ],
   "source": [
    "future_day = 90\n",
    "pred = model.predict(x[-future_day:])\n",
    "pred = scaler.inverse_transform(pred)[:,0]\n"
   ]
  },
  {
   "cell_type": "code",
   "execution_count": 142,
   "metadata": {},
   "outputs": [
    {
     "ename": "ValueError",
     "evalue": "x and y must have same first dimension, but have shapes (10814,) and (1807, 1)",
     "output_type": "error",
     "traceback": [
      "\u001b[1;31m---------------------------------------------------------------------------\u001b[0m",
      "\u001b[1;31mValueError\u001b[0m                                Traceback (most recent call last)",
      "\u001b[1;32mc:\\Users\\pancakeFiles\\OneDrive\\Desktop\\GOODProjects\\FinancePredictions\\Basic_Predictions.ipynb Cell 13\u001b[0m line \u001b[0;36m3\n\u001b[0;32m      <a href='vscode-notebook-cell:/c%3A/Users/pancakeFiles/OneDrive/Desktop/GOODProjects/FinancePredictions/Basic_Predictions.ipynb#X15sZmlsZQ%3D%3D?line=0'>1</a>\u001b[0m a \u001b[39m=\u001b[39m \u001b[39m9000\u001b[39m\n\u001b[0;32m      <a href='vscode-notebook-cell:/c%3A/Users/pancakeFiles/OneDrive/Desktop/GOODProjects/FinancePredictions/Basic_Predictions.ipynb#X15sZmlsZQ%3D%3D?line=1'>2</a>\u001b[0m plt\u001b[39m.\u001b[39mfigure(figsize \u001b[39m=\u001b[39m (\u001b[39m13\u001b[39m,\u001b[39m8\u001b[39m))\n\u001b[1;32m----> <a href='vscode-notebook-cell:/c%3A/Users/pancakeFiles/OneDrive/Desktop/GOODProjects/FinancePredictions/Basic_Predictions.ipynb#X15sZmlsZQ%3D%3D?line=2'>3</a>\u001b[0m plt\u001b[39m.\u001b[39;49mplot(dates,scaler\u001b[39m.\u001b[39;49minverse_transform(y)[a:])\n\u001b[0;32m      <a href='vscode-notebook-cell:/c%3A/Users/pancakeFiles/OneDrive/Desktop/GOODProjects/FinancePredictions/Basic_Predictions.ipynb#X15sZmlsZQ%3D%3D?line=3'>4</a>\u001b[0m plt\u001b[39m.\u001b[39mplot(pred) \u001b[39m#list(range(len(y[a:])))[-future_day:]\u001b[39;00m\n\u001b[0;32m      <a href='vscode-notebook-cell:/c%3A/Users/pancakeFiles/OneDrive/Desktop/GOODProjects/FinancePredictions/Basic_Predictions.ipynb#X15sZmlsZQ%3D%3D?line=4'>5</a>\u001b[0m plt\u001b[39m.\u001b[39mshow()\n",
      "File \u001b[1;32m~\\AppData\\Local\\Packages\\PythonSoftwareFoundation.Python.3.10_qbz5n2kfra8p0\\LocalCache\\local-packages\\Python310\\site-packages\\matplotlib\\pyplot.py:2812\u001b[0m, in \u001b[0;36mplot\u001b[1;34m(scalex, scaley, data, *args, **kwargs)\u001b[0m\n\u001b[0;32m   2810\u001b[0m \u001b[39m@_copy_docstring_and_deprecators\u001b[39m(Axes\u001b[39m.\u001b[39mplot)\n\u001b[0;32m   2811\u001b[0m \u001b[39mdef\u001b[39;00m \u001b[39mplot\u001b[39m(\u001b[39m*\u001b[39margs, scalex\u001b[39m=\u001b[39m\u001b[39mTrue\u001b[39;00m, scaley\u001b[39m=\u001b[39m\u001b[39mTrue\u001b[39;00m, data\u001b[39m=\u001b[39m\u001b[39mNone\u001b[39;00m, \u001b[39m*\u001b[39m\u001b[39m*\u001b[39mkwargs):\n\u001b[1;32m-> 2812\u001b[0m     \u001b[39mreturn\u001b[39;00m gca()\u001b[39m.\u001b[39mplot(\n\u001b[0;32m   2813\u001b[0m         \u001b[39m*\u001b[39margs, scalex\u001b[39m=\u001b[39mscalex, scaley\u001b[39m=\u001b[39mscaley,\n\u001b[0;32m   2814\u001b[0m         \u001b[39m*\u001b[39m\u001b[39m*\u001b[39m({\u001b[39m\"\u001b[39m\u001b[39mdata\u001b[39m\u001b[39m\"\u001b[39m: data} \u001b[39mif\u001b[39;00m data \u001b[39mis\u001b[39;00m \u001b[39mnot\u001b[39;00m \u001b[39mNone\u001b[39;00m \u001b[39melse\u001b[39;00m {}), \u001b[39m*\u001b[39m\u001b[39m*\u001b[39mkwargs)\n",
      "File \u001b[1;32m~\\AppData\\Local\\Packages\\PythonSoftwareFoundation.Python.3.10_qbz5n2kfra8p0\\LocalCache\\local-packages\\Python310\\site-packages\\matplotlib\\axes\\_axes.py:1688\u001b[0m, in \u001b[0;36mAxes.plot\u001b[1;34m(self, scalex, scaley, data, *args, **kwargs)\u001b[0m\n\u001b[0;32m   1445\u001b[0m \u001b[39m\u001b[39m\u001b[39m\"\"\"\u001b[39;00m\n\u001b[0;32m   1446\u001b[0m \u001b[39mPlot y versus x as lines and/or markers.\u001b[39;00m\n\u001b[0;32m   1447\u001b[0m \n\u001b[1;32m   (...)\u001b[0m\n\u001b[0;32m   1685\u001b[0m \u001b[39m(``'green'``) or hex strings (``'#008000'``).\u001b[39;00m\n\u001b[0;32m   1686\u001b[0m \u001b[39m\"\"\"\u001b[39;00m\n\u001b[0;32m   1687\u001b[0m kwargs \u001b[39m=\u001b[39m cbook\u001b[39m.\u001b[39mnormalize_kwargs(kwargs, mlines\u001b[39m.\u001b[39mLine2D)\n\u001b[1;32m-> 1688\u001b[0m lines \u001b[39m=\u001b[39m [\u001b[39m*\u001b[39m\u001b[39mself\u001b[39m\u001b[39m.\u001b[39m_get_lines(\u001b[39m*\u001b[39margs, data\u001b[39m=\u001b[39mdata, \u001b[39m*\u001b[39m\u001b[39m*\u001b[39mkwargs)]\n\u001b[0;32m   1689\u001b[0m \u001b[39mfor\u001b[39;00m line \u001b[39min\u001b[39;00m lines:\n\u001b[0;32m   1690\u001b[0m     \u001b[39mself\u001b[39m\u001b[39m.\u001b[39madd_line(line)\n",
      "File \u001b[1;32m~\\AppData\\Local\\Packages\\PythonSoftwareFoundation.Python.3.10_qbz5n2kfra8p0\\LocalCache\\local-packages\\Python310\\site-packages\\matplotlib\\axes\\_base.py:311\u001b[0m, in \u001b[0;36m_process_plot_var_args.__call__\u001b[1;34m(self, data, *args, **kwargs)\u001b[0m\n\u001b[0;32m    309\u001b[0m     this \u001b[39m+\u001b[39m\u001b[39m=\u001b[39m args[\u001b[39m0\u001b[39m],\n\u001b[0;32m    310\u001b[0m     args \u001b[39m=\u001b[39m args[\u001b[39m1\u001b[39m:]\n\u001b[1;32m--> 311\u001b[0m \u001b[39myield from\u001b[39;00m \u001b[39mself\u001b[39;49m\u001b[39m.\u001b[39;49m_plot_args(\n\u001b[0;32m    312\u001b[0m     this, kwargs, ambiguous_fmt_datakey\u001b[39m=\u001b[39;49mambiguous_fmt_datakey)\n",
      "File \u001b[1;32m~\\AppData\\Local\\Packages\\PythonSoftwareFoundation.Python.3.10_qbz5n2kfra8p0\\LocalCache\\local-packages\\Python310\\site-packages\\matplotlib\\axes\\_base.py:504\u001b[0m, in \u001b[0;36m_process_plot_var_args._plot_args\u001b[1;34m(self, tup, kwargs, return_kwargs, ambiguous_fmt_datakey)\u001b[0m\n\u001b[0;32m    501\u001b[0m     \u001b[39mself\u001b[39m\u001b[39m.\u001b[39maxes\u001b[39m.\u001b[39myaxis\u001b[39m.\u001b[39mupdate_units(y)\n\u001b[0;32m    503\u001b[0m \u001b[39mif\u001b[39;00m x\u001b[39m.\u001b[39mshape[\u001b[39m0\u001b[39m] \u001b[39m!=\u001b[39m y\u001b[39m.\u001b[39mshape[\u001b[39m0\u001b[39m]:\n\u001b[1;32m--> 504\u001b[0m     \u001b[39mraise\u001b[39;00m \u001b[39mValueError\u001b[39;00m(\u001b[39mf\u001b[39m\u001b[39m\"\u001b[39m\u001b[39mx and y must have same first dimension, but \u001b[39m\u001b[39m\"\u001b[39m\n\u001b[0;32m    505\u001b[0m                      \u001b[39mf\u001b[39m\u001b[39m\"\u001b[39m\u001b[39mhave shapes \u001b[39m\u001b[39m{\u001b[39;00mx\u001b[39m.\u001b[39mshape\u001b[39m}\u001b[39;00m\u001b[39m and \u001b[39m\u001b[39m{\u001b[39;00my\u001b[39m.\u001b[39mshape\u001b[39m}\u001b[39;00m\u001b[39m\"\u001b[39m)\n\u001b[0;32m    506\u001b[0m \u001b[39mif\u001b[39;00m x\u001b[39m.\u001b[39mndim \u001b[39m>\u001b[39m \u001b[39m2\u001b[39m \u001b[39mor\u001b[39;00m y\u001b[39m.\u001b[39mndim \u001b[39m>\u001b[39m \u001b[39m2\u001b[39m:\n\u001b[0;32m    507\u001b[0m     \u001b[39mraise\u001b[39;00m \u001b[39mValueError\u001b[39;00m(\u001b[39mf\u001b[39m\u001b[39m\"\u001b[39m\u001b[39mx and y can be no greater than 2D, but have \u001b[39m\u001b[39m\"\u001b[39m\n\u001b[0;32m    508\u001b[0m                      \u001b[39mf\u001b[39m\u001b[39m\"\u001b[39m\u001b[39mshapes \u001b[39m\u001b[39m{\u001b[39;00mx\u001b[39m.\u001b[39mshape\u001b[39m}\u001b[39;00m\u001b[39m and \u001b[39m\u001b[39m{\u001b[39;00my\u001b[39m.\u001b[39mshape\u001b[39m}\u001b[39;00m\u001b[39m\"\u001b[39m)\n",
      "\u001b[1;31mValueError\u001b[0m: x and y must have same first dimension, but have shapes (10814,) and (1807, 1)"
     ]
    },
    {
     "data": {
      "image/png": "[encoded data removed]",
      "text/plain": [
       "<Figure size 1300x800 with 1 Axes>"
      ]
     },
     "metadata": {},
     "output_type": "display_data"
    }
   ],
   "source": [
    "a = 9000\n",
    "plt.figure(figsize = (13,8))\n",
    "plt.plot(dates,scaler.inverse_transform(y)[a:])\n",
    "plt.plot(pred) #list(range(len(y[a:])))[-future_day:]\n",
    "plt.show()\n",
    "print()"
   ]
  }
 ],
 "metadata": {
  "kernelspec": {
   "display_name": "Python 3",
   "language": "python",
   "name": "python3"
  },
  "language_info": {
   "codemirror_mode": {
    "name": "ipython",
    "version": 3
   },
   "file_extension": ".py",
   "mimetype": "text/x-python",
   "name": "python",
   "nbconvert_exporter": "python",
   "pygments_lexer": "ipython3",
   "version": "3.10.11"
  }
 },
 "nbformat": 4,
 "nbformat_minor": 2
}
